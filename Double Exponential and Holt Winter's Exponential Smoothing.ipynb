{
 "cells": [
  {
   "cell_type": "markdown",
   "metadata": {},
   "source": [
    "## Holt Exponential Smoothing"
   ]
  },
  {
   "cell_type": "markdown",
   "metadata": {},
   "source": [
    "The Holt Exponential Smoothing technique fixes one of the two shortcomings of the simple Exponential Smoothing technique. \n",
    "Holt Exponential Smoothing can be used o forecast time series data that has a trend. But Holt Exponential Smoothing fails in the presence of seasonal variations in the time series."
   ]
  },
  {
   "cell_type": "markdown",
   "metadata": {},
   "source": [
    "## Holt-Winters Exponential Smoothing"
   ]
  },
  {
   "cell_type": "markdown",
   "metadata": {},
   "source": [
    "The **Holt-Winters Exponential Smoothing** modifies the Holt ES technique so that it can be used in the presence of both trend and seasonality."
   ]
  },
  {
   "cell_type": "markdown",
   "metadata": {},
   "source": [
    "### Importing the Required Libraries"
   ]
  },
  {
   "cell_type": "code",
   "execution_count": 2,
   "metadata": {},
   "outputs": [],
   "source": [
    "import pandas as pd\n",
    "import numpy as np\n",
    "import warnings\n",
    "warnings.filterwarnings(\"ignore\")"
   ]
  },
  {
   "cell_type": "markdown",
   "metadata": {},
   "source": [
    "### Importing the Required Libraries from Functions"
   ]
  },
  {
   "cell_type": "code",
   "execution_count": 3,
   "metadata": {},
   "outputs": [],
   "source": [
    "from matplotlib import pyplot as plt\n",
    "from statsmodels.tsa.holtwinters import ExponentialSmoothing as Exps"
   ]
  },
  {
   "cell_type": "markdown",
   "metadata": {},
   "source": [
    "### Reading the Data"
   ]
  },
  {
   "cell_type": "code",
   "execution_count": 4,
   "metadata": {},
   "outputs": [
    {
     "data": {
      "text/html": [
       "<div>\n",
       "<style scoped>\n",
       "    .dataframe tbody tr th:only-of-type {\n",
       "        vertical-align: middle;\n",
       "    }\n",
       "\n",
       "    .dataframe tbody tr th {\n",
       "        vertical-align: top;\n",
       "    }\n",
       "\n",
       "    .dataframe thead th {\n",
       "        text-align: right;\n",
       "    }\n",
       "</style>\n",
       "<table border=\"1\" class=\"dataframe\">\n",
       "  <thead>\n",
       "    <tr style=\"text-align: right;\">\n",
       "      <th></th>\n",
       "      <th>Retail_Sales</th>\n",
       "    </tr>\n",
       "    <tr>\n",
       "      <th>DATE</th>\n",
       "      <th></th>\n",
       "    </tr>\n",
       "  </thead>\n",
       "  <tbody>\n",
       "    <tr>\n",
       "      <th>1992-01-01</th>\n",
       "      <td>1744</td>\n",
       "    </tr>\n",
       "    <tr>\n",
       "      <th>1992-01-02</th>\n",
       "      <td>1990</td>\n",
       "    </tr>\n",
       "    <tr>\n",
       "      <th>1992-01-03</th>\n",
       "      <td>2177</td>\n",
       "    </tr>\n",
       "    <tr>\n",
       "      <th>1992-01-04</th>\n",
       "      <td>2601</td>\n",
       "    </tr>\n",
       "    <tr>\n",
       "      <th>1992-01-05</th>\n",
       "      <td>2171</td>\n",
       "    </tr>\n",
       "    <tr>\n",
       "      <th>...</th>\n",
       "      <td>...</td>\n",
       "    </tr>\n",
       "    <tr>\n",
       "      <th>2019-01-12</th>\n",
       "      <td>8669</td>\n",
       "    </tr>\n",
       "    <tr>\n",
       "      <th>2020-01-01</th>\n",
       "      <td>8971</td>\n",
       "    </tr>\n",
       "    <tr>\n",
       "      <th>2020-01-02</th>\n",
       "      <td>10567</td>\n",
       "    </tr>\n",
       "    <tr>\n",
       "      <th>2020-01-03</th>\n",
       "      <td>9314</td>\n",
       "    </tr>\n",
       "    <tr>\n",
       "      <th>2020-01-04</th>\n",
       "      <td>6395</td>\n",
       "    </tr>\n",
       "  </tbody>\n",
       "</table>\n",
       "<p>340 rows × 1 columns</p>\n",
       "</div>"
      ],
      "text/plain": [
       "            Retail_Sales\n",
       "DATE                    \n",
       "1992-01-01          1744\n",
       "1992-01-02          1990\n",
       "1992-01-03          2177\n",
       "1992-01-04          2601\n",
       "1992-01-05          2171\n",
       "...                  ...\n",
       "2019-01-12          8669\n",
       "2020-01-01          8971\n",
       "2020-01-02         10567\n",
       "2020-01-03          9314\n",
       "2020-01-04          6395\n",
       "\n",
       "[340 rows x 1 columns]"
      ]
     },
     "execution_count": 4,
     "metadata": {},
     "output_type": "execute_result"
    }
   ],
   "source": [
    "car_sales = pd.read_csv('Retail Sales of cars.csv', header=0, infer_datetime_format=True, parse_dates=[0], index_col=[0])\n",
    "car_sales"
   ]
  },
  {
   "cell_type": "markdown",
   "metadata": {},
   "source": [
    "### Plotting the data"
   ]
  },
  {
   "cell_type": "code",
   "execution_count": 5,
   "metadata": {},
   "outputs": [
    {
     "data": {
      "image/png": "[encoded data removed]",
      "text/plain": [
       "<Figure size 432x288 with 1 Axes>"
      ]
     },
     "metadata": {
      "needs_background": "light"
     },
     "output_type": "display_data"
    }
   ],
   "source": [
    "car_sales.plot()\n",
    "plt.show()"
   ]
  },
  {
   "cell_type": "markdown",
   "metadata": {},
   "source": [
    "### Splitting the data into Training data and Test Data"
   ]
  },
  {
   "cell_type": "code",
   "execution_count": 6,
   "metadata": {},
   "outputs": [],
   "source": [
    "#The last 12 periods form the test data\n",
    "car_sales_train = car_sales.iloc[:-12]\n",
    "car_sales_test = car_sales.iloc[-12:]"
   ]
  },
  {
   "cell_type": "markdown",
   "metadata": {},
   "source": [
    "# Holt-Winters Exponential or Triple Exponential Smoothing"
   ]
  },
  {
   "cell_type": "markdown",
   "metadata": {},
   "source": [
    "### Building and Training the model on the Training data"
   ]
  },
  {
   "cell_type": "markdown",
   "metadata": {},
   "source": [
    "In the above chart, the level of the time series seems to be increasing linearly. So we set the trend as additive. However, the seasonal variation around each level seems to be increasing in proportion to the current level. So we set the seasonality to multiplicative."
   ]
  },
  {
   "cell_type": "code",
   "execution_count": 7,
   "metadata": {},
   "outputs": [
    {
     "name": "stderr",
     "output_type": "stream",
     "text": [
      "C:\\Users\\Manoj\\anaconda3\\lib\\site-packages\\statsmodels\\tsa\\base\\tsa_model.py:218: ValueWarning: A date index has been provided, but it has no associated frequency information and so will be ignored when e.g. forecasting.\n",
      "  ' ignored when e.g. forecasting.', ValueWarning)\n"
     ]
    }
   ],
   "source": [
    "model = Exps(car_sales_train, seasonal_periods=12, trend='add', seasonal='mul')\n",
    "fitted = model.fit()"
   ]
  },
  {
   "cell_type": "markdown",
   "metadata": {},
   "source": [
    "#### Printing the training summary"
   ]
  },
  {
   "cell_type": "code",
   "execution_count": 8,
   "metadata": {},
   "outputs": [
    {
     "name": "stdout",
     "output_type": "stream",
     "text": [
      "                       ExponentialSmoothing Model Results                       \n",
      "================================================================================\n",
      "Dep. Variable:                    endog   No. Observations:                  328\n",
      "Model:             ExponentialSmoothing   SSE                       23246801.149\n",
      "Optimized:                         True   AIC                           3695.322\n",
      "Trend:                         Additive   BIC                           3756.010\n",
      "Seasonal:                Multiplicative   AICC                          3697.536\n",
      "Seasonal Periods:                    12   Date:                 Fri, 18 Jun 2021\n",
      "Box-Cox:                          False   Time:                         15:48:22\n",
      "Box-Cox Coeff.:                    None                                         \n",
      "=================================================================================\n",
      "                          coeff                 code              optimized      \n",
      "---------------------------------------------------------------------------------\n",
      "smoothing_level               0.3891108                alpha                 True\n",
      "smoothing_slope              2.4007e-10                 beta                 True\n",
      "smoothing_seasonal            0.3929669                gamma                 True\n",
      "initial_level                 5273.3850                  l.0                 True\n",
      "initial_slope                 58.875126                  b.0                 True\n",
      "initial_seasons.0             0.3318604                  s.0                 True\n",
      "initial_seasons.1             0.3648615                  s.1                 True\n",
      "initial_seasons.2             0.3984405                  s.2                 True\n",
      "initial_seasons.3             0.4285331                  s.3                 True\n",
      "initial_seasons.4             0.3932048                  s.4                 True\n",
      "initial_seasons.5             0.3979555                  s.5                 True\n",
      "initial_seasons.6             0.4055828                  s.6                 True\n",
      "initial_seasons.7             0.3905119                  s.7                 True\n",
      "initial_seasons.8             0.3668085                  s.8                 True\n",
      "initial_seasons.9             0.3874696                  s.9                 True\n",
      "initial_seasons.10            0.3330794                 s.10                 True\n",
      "initial_seasons.11            0.3050040                 s.11                 True\n",
      "---------------------------------------------------------------------------------\n"
     ]
    }
   ],
   "source": [
    "print(fitted.summary())"
   ]
  },
  {
   "cell_type": "markdown",
   "metadata": {},
   "source": [
    "## Forecasting the data"
   ]
  },
  {
   "cell_type": "markdown",
   "metadata": {},
   "source": [
    "Here we are creating an out of sample forecast for the next 12 steps beyond the final data point in the training data set."
   ]
  },
  {
   "cell_type": "code",
   "execution_count": 9,
   "metadata": {
    "scrolled": true
   },
   "outputs": [
    {
     "name": "stderr",
     "output_type": "stream",
     "text": [
      "C:\\Users\\Manoj\\anaconda3\\lib\\site-packages\\statsmodels\\tsa\\base\\tsa_model.py:583: ValueWarning: No supported index is available. Prediction results will be given with an integer index beginning at `start`.\n",
      "  ValueWarning)\n"
     ]
    },
    {
     "data": {
      "text/plain": [
       "328    10354.784316\n",
       "329    10127.111172\n",
       "330     9977.745899\n",
       "331    10207.295749\n",
       "332     9313.286776\n",
       "333     9478.686463\n",
       "334     8835.631054\n",
       "335     8635.703173\n",
       "336     9116.892408\n",
       "337    10500.092468\n",
       "338    12239.429446\n",
       "339    10380.545358\n",
       "dtype: float64"
      ]
     },
     "execution_count": 9,
     "metadata": {},
     "output_type": "execute_result"
    }
   ],
   "source": [
    "sales_forecast = fitted.forecast(steps=12)\n",
    "sales_forecast"
   ]
  },
  {
   "cell_type": "markdown",
   "metadata": {},
   "source": [
    "### Plotting all the training data, test data and forecast "
   ]
  },
  {
   "cell_type": "code",
   "execution_count": 18,
   "metadata": {},
   "outputs": [
    {
     "data": {
      "image/png": "[encoded data removed]",
      "text/plain": [
       "<Figure size 432x288 with 1 Axes>"
      ]
     },
     "metadata": {
      "needs_background": "light"
     },
     "output_type": "display_data"
    }
   ],
   "source": [
    "# plot the training data, the test data and the forecast on the same plot\n",
    "fig = plt.figure()\n",
    "fig.suptitle('Retail Sales of Used Cars in the US (1992-2020)')\n",
    "past, = plt.plot(car_sales_train.index, car_sales_train, 'b.-', label='Sales History')\n",
    "future, = plt.plot(car_sales_test.index, car_sales_test, 'r.-', label='Actual Sales')\n",
    "predicted_future, = plt.plot(car_sales_test.index, sales_forecast, 'g.-', label='Sales Forecast')\n",
    "plt.legend(handles=[past, future, predicted_future])\n",
    "plt.show()"
   ]
  },
  {
   "cell_type": "markdown",
   "metadata": {},
   "source": [
    "**Here, we can see that the forecast lags behind sharp turning points as it rightly should for any moving average based forecasting technique**"
   ]
  },
  {
   "cell_type": "markdown",
   "metadata": {},
   "source": [
    "# Double Exponential Smoothing"
   ]
  },
  {
   "cell_type": "code",
   "execution_count": 15,
   "metadata": {},
   "outputs": [],
   "source": [
    "model = Exps(np.asarray(car_sales_train['Retail_Sales']), trend='add', seasonal=None)\n",
    "fit1 = model.fit(smoothing_level=0.4, smoothing_slope=0.7, optimized=False)"
   ]
  },
  {
   "cell_type": "markdown",
   "metadata": {},
   "source": [
    "### Forecasting the Data "
   ]
  },
  {
   "cell_type": "code",
   "execution_count": 17,
   "metadata": {},
   "outputs": [
    {
     "data": {
      "text/plain": [
       "array([11718.20201392, 12542.53372847, 13366.86544301, 14191.19715755,\n",
       "       15015.5288721 , 15839.86058664, 16664.19230118, 17488.52401573,\n",
       "       18312.85573027, 19137.18744481, 19961.51915935, 20785.8508739 ])"
      ]
     },
     "execution_count": 17,
     "metadata": {},
     "output_type": "execute_result"
    }
   ],
   "source": [
    "sales_forecasting = fit1.forecast(len(car_sales_test))\n",
    "sales_forecasting"
   ]
  },
  {
   "cell_type": "markdown",
   "metadata": {},
   "source": [
    "### Plotting all the training data, test data and forecast "
   ]
  },
  {
   "cell_type": "code",
   "execution_count": 21,
   "metadata": {},
   "outputs": [
    {
     "data": {
      "image/png": "[encoded data removed]",
      "text/plain": [
       "<Figure size 432x288 with 1 Axes>"
      ]
     },
     "metadata": {
      "needs_background": "light"
     },
     "output_type": "display_data"
    }
   ],
   "source": [
    "# plot the training data, the test data and the forecast on the same plot\n",
    "fig = plt.figure()\n",
    "fig.suptitle('Retail Sales of Used Cars in the US (1992-2020)')\n",
    "past, = plt.plot(car_sales_train.index, car_sales_train, 'b.-', label='Sales History')\n",
    "future, = plt.plot(car_sales_test.index, car_sales_test, 'r.-', label='Actual Sales')\n",
    "predicted_future, = plt.plot(car_sales_test.index, sales_forecasting, 'g.-', label='Sales Forecasted')\n",
    "plt.legend(handles=[past, future, predicted_future])\n",
    "plt.show()"
   ]
  }
 ],
 "metadata": {
  "kernelspec": {
   "display_name": "Python 3",
   "language": "python",
   "name": "python3"
  },
  "language_info": {
   "codemirror_mode": {
    "name": "ipython",
    "version": 3
   },
   "file_extension": ".py",
   "mimetype": "text/x-python",
   "name": "python",
   "nbconvert_exporter": "python",
   "pygments_lexer": "ipython3",
   "version": "3.7.6"
  }
 },
 "nbformat": 4,
 "nbformat_minor": 4
}
